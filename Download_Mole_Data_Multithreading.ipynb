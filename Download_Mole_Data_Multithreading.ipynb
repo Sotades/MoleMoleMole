{
  "nbformat": 4,
  "nbformat_minor": 0,
  "metadata": {
    "colab": {
      "name": "Download Mole Data Multithreading.ipynb",
      "provenance": [],
      "collapsed_sections": [],
      "authorship_tag": "ABX9TyOVJLnW+EP7oCj8rtDpdtjC",
      "include_colab_link": true
    },
    "kernelspec": {
      "name": "python3",
      "display_name": "Python 3"
    }
  },
  "cells": [
    {
      "cell_type": "markdown",
      "metadata": {
        "id": "view-in-github",
        "colab_type": "text"
      },
      "source": [
        "<a href=\"https://colab.research.google.com/github/Sotades/MoleMoleMole/blob/master/Download_Mole_Data_Multithreading.ipynb\" target=\"_parent\"><img src=\"https://colab.research.google.com/assets/colab-badge.svg\" alt=\"Open In Colab\"/></a>"
      ]
    },
    {
      "cell_type": "code",
      "metadata": {
        "id": "zEaFAwZE4oWp",
        "colab_type": "code",
        "colab": {
          "base_uri": "https://localhost:8080/",
          "height": 34
        },
        "outputId": "50af18f1-d3ea-4ad5-c633-b1bfd57462b6"
      },
      "source": [
        "import sys\n",
        "import zipfile\n",
        "import json\n",
        "import os\n",
        "import threading\n",
        "\n",
        "from google.colab import drive\n",
        "\n",
        "# Start by connecting gdrive to colab\n",
        "drive.mount('/content/gdrive')\n",
        "\n",
        "# We'll need to update our path to import from Drive.\n",
        "sys.path.append('/content/gdrive/My Drive/Python_Modules')\n",
        "\n",
        "# Now we can import the library that is stored on Google Drive.\n",
        "from isic import isic_api"
      ],
      "execution_count": 311,
      "outputs": [
        {
          "output_type": "stream",
          "text": [
            "Drive already mounted at /content/gdrive; to attempt to forcibly remount, call drive.mount(\"/content/gdrive\", force_remount=True).\n"
          ],
          "name": "stdout"
        }
      ]
    },
    {
      "cell_type": "code",
      "metadata": {
        "id": "6bpIIM1m5G2_",
        "colab_type": "code",
        "colab": {}
      },
      "source": [
        "NUMBER_OF_IMAGES = 25\n",
        "BLOCK_SIZE = 5\n",
        "SAVE_PATH = '/content/gdrive/My Drive/Mole Images'\n",
        "imagelist_getstring = \"image?limit={}&offset=0&sort=name\".format(NUMBER_OF_IMAGES)"
      ],
      "execution_count": 0,
      "outputs": []
    },
    {
      "cell_type": "code",
      "metadata": {
        "id": "MHTj79xw6Xxq",
        "colab_type": "code",
        "colab": {}
      },
      "source": [
        "def authorise():\n",
        "  # Authorise to access ISIC database\n",
        "  api = isic_api.ISICApi(username=\"Sotades\", password=\"80!eVmkc%BiG\")\n",
        "  return api"
      ],
      "execution_count": 0,
      "outputs": []
    },
    {
      "cell_type": "code",
      "metadata": {
        "id": "XIGd-IxU-XUM",
        "colab_type": "code",
        "colab": {}
      },
      "source": [
        "def create_zipfile(fully_qualified_path):\n",
        "  # Create a zip file for images\n",
        "  return zipfile.ZipFile(fully_qualified_path, \"w\")"
      ],
      "execution_count": 0,
      "outputs": []
    },
    {
      "cell_type": "code",
      "metadata": {
        "id": "9oiISr6Z_D1N",
        "colab_type": "code",
        "colab": {}
      },
      "source": [
        "def close_zipfile(z: zipfile.ZipFile):\n",
        "  z.close()\n",
        "  return"
      ],
      "execution_count": 0,
      "outputs": []
    },
    {
      "cell_type": "code",
      "metadata": {
        "id": "XUvykucIB8-9",
        "colab_type": "code",
        "colab": {}
      },
      "source": [
        "def zip_images_subset(api, path, run_number, offset, block_size):\n",
        "  \n",
        "  # Create zipfile name\n",
        "  filename = construct_filename(path, offset, block_size)\n",
        "  \n",
        "  # Create zipfile and open\n",
        "  z = zipfile.ZipFile(filename, \"w\")\n",
        "  \n",
        "  # Get metadata of images\n",
        "  imagelist_metadata = get_metadata(api, block_size, offset)\n",
        "\n",
        "  # Process each image\n",
        "  for image_metadata in imagelist_metadata:\n",
        "    image = read_image_and_zip(z, api, path, image_metadata)\n",
        "\n",
        "  z.close()\n",
        "\n",
        "  return"
      ],
      "execution_count": 0,
      "outputs": []
    },
    {
      "cell_type": "code",
      "metadata": {
        "id": "jcFTpBr-Z6de",
        "colab_type": "code",
        "colab": {}
      },
      "source": [
        "def read_image_and_zip(zipfile, api, path, image_metadata):\n",
        "  imageFileResp = api.get('image/%s/download' % image_metadata['_id'])\n",
        "\n",
        "  imageFileOutputPath = os.path.join(path, '%s.jpg' % image_metadata['name'])\n",
        "  \n",
        "  with open(imageFileOutputPath, 'wb') as imageFileOutputStream:\n",
        "        for chunk in imageFileResp:\n",
        "            imageFileOutputStream.write(chunk)\n",
        "\n",
        "  imageFileOutputStream.close()\n",
        "\n",
        "  # Fetch the full image details\n",
        "  imageDetail = api.getJson('image/%s' % image_metadata['_id'])\n",
        "  # Decide if benign or malignant and construct directory path to store in zip file\n",
        "  benign_malignant = imageDetail['meta']['clinical']['benign_malignant']\n",
        "\n",
        "  print(\"benign_malignant = {}\".format(benign_malignant))\n",
        "\n",
        "  if benign_malignant == 'benign':\n",
        "    print(\"benign\")\n",
        "    arcname = os.path.join('benign', image_metadata['name']) + '.jpg'\n",
        "    # arcname = os.path.join('benign', '%s.jpg' % image['name'])\n",
        "    # arcname = os.path.join('benign', imageFileOutputPath)\n",
        "    print(\"arcname: {}\".format(arcname))\n",
        "  elif benign_malignant == 'malignant':\n",
        "    print(\"malignant\")\n",
        "    arcname = os.path.join('malignant', image_metadata['name']) + '.jpg'\n",
        "    # arcname = os.path.join('malignant', '%s.jpg' % image['name'])\n",
        "    # arcname = os.path.join('malignant', imageFileOutputPath)\n",
        "    print(\"arcname: {}\".format(arcname))\n",
        "\n",
        "  zipfile.write(imageFileOutputPath, arcname= arcname)\n",
        "\n",
        "  os.remove(imageFileOutputPath)\n",
        "\n",
        "  return\n"
      ],
      "execution_count": 0,
      "outputs": []
    },
    {
      "cell_type": "code",
      "metadata": {
        "id": "cVk47PDKV0xs",
        "colab_type": "code",
        "colab": {}
      },
      "source": [
        "def get_metadata(api, block_size, offset):\n",
        "  # Construct metadata list string\n",
        "  imagelist_getstring = \"image?limit={}&offset={}&sort=name\".format(block_size, offset)\n",
        "  return api.getJson(imagelist_getstring)"
      ],
      "execution_count": 0,
      "outputs": []
    },
    {
      "cell_type": "code",
      "metadata": {
        "id": "tR_M36jDOqtv",
        "colab_type": "code",
        "colab": {}
      },
      "source": [
        "def construct_filename(path, offset, block_size):\n",
        "  start = str(offset)\n",
        "  end = str(offset + block_size)\n",
        "  filename = \"mole_images_{}_{}.zip\".format(start, end)\n",
        "  fully_qualified_filename = os.path.join(path, filename)\n",
        "  print(\"\\nfilename: {}\".format(fully_qualified_filename))\n",
        "  return fully_qualified_filename"
      ],
      "execution_count": 0,
      "outputs": []
    },
    {
      "cell_type": "code",
      "metadata": {
        "id": "wVSqwbQvDwvh",
        "colab_type": "code",
        "colab": {}
      },
      "source": [
        "def zip_images(api, path, total_images_count, block_size):\n",
        "  \n",
        "  threads = list()\n",
        "  \n",
        "  # Create array of offsets\n",
        "  offsets = range(0, total_images_count, block_size)\n",
        "  for i, offset in enumerate(offsets):\n",
        "    # Create thread\n",
        "    x = threading.Thread(target=zip_images_subset, args=(api, path, i, offset, block_size))\n",
        "    # Add to threads handler\n",
        "    threads.append(x)\n",
        "    # Execute threads\n",
        "    x.start()\n",
        "  \n",
        "  # Wait for threads to complete\n",
        "  for index, thread in enumerate(threads):\n",
        "    thread.join()\n",
        "    print(\"thread {} done.\".format(str(index)))\n",
        "\n",
        "  print(\"All threads returned.\")\n",
        "  return"
      ],
      "execution_count": 0,
      "outputs": []
    },
    {
      "cell_type": "code",
      "metadata": {
        "id": "RB974W034FAX",
        "colab_type": "code",
        "colab": {}
      },
      "source": [
        "def main():\n",
        "  api = authorise()\n",
        "  zip_images(api, SAVE_PATH, NUMBER_OF_IMAGES, BLOCK_SIZE)\n",
        "  \n",
        "\n",
        "\n"
      ],
      "execution_count": 0,
      "outputs": []
    },
    {
      "cell_type": "code",
      "metadata": {
        "id": "hwkI5Qgi5uKq",
        "colab_type": "code",
        "colab": {
          "base_uri": "https://localhost:8080/",
          "height": 1000
        },
        "outputId": "3c92c41a-2e0d-446c-b525-61c3550e852f"
      },
      "source": [
        "if __name__ == '__main__':    \n",
        "    main()"
      ],
      "execution_count": 322,
      "outputs": [
        {
          "output_type": "stream",
          "text": [
            "\n",
            "filename: /content/gdrive/My Drive/Mole Images/mole_images_0_5.zip\n",
            "filename: /content/gdrive/My Drive/Mole Images/mole_images_5_10.zip\n",
            "filename: /content/gdrive/My Drive/Mole Images/mole_images_10_15.zip\n",
            "\n",
            "\n",
            "filename: /content/gdrive/My Drive/Mole Images/mole_images_15_20.zip\n",
            "\n",
            "\n",
            "filename: /content/gdrive/My Drive/Mole Images/mole_images_20_25.zip\n",
            "benign_malignant = benignbenign_malignant = benign\n",
            "benign\n",
            "arcname: benign/ISIC_0000000.jpg\n",
            "\n",
            "benign\n",
            "arcname: benign/ISIC_0000010.jpg\n",
            "benign_malignant = benign\n",
            "benign\n",
            "arcname: benign/ISIC_0000015.jpg\n",
            "benign_malignant = benign\n",
            "benign\n",
            "arcname: benign/ISIC_0000005.jpg\n",
            "benign_malignant = benign\n",
            "benign\n",
            "arcname: benign/ISIC_0000020.jpg\n",
            "benign_malignant = benignbenign_malignant = benign\n",
            "benign\n",
            "arcname: benign/ISIC_0000001.jpg\n",
            "\n",
            "benign\n",
            "arcname: benign/ISIC_0000016.jpg\n",
            "benign_malignant = benign\n",
            "benign\n",
            "arcname: benign/ISIC_0000011.jpg\n",
            "benign_malignant = benign\n",
            "benign\n",
            "arcname: benign/ISIC_0000006.jpg\n",
            "benign_malignant = benign\n",
            "benign\n",
            "arcname: benign/ISIC_0000021.jpg\n",
            "benign_malignant = malignantbenign_malignant = benign\n",
            "malignant\n",
            "benign\n",
            "arcname: benign/ISIC_0000012.jpg\n",
            "\n",
            "arcname: malignant/ISIC_0000002.jpg\n",
            "benign_malignant = benign\n",
            "benign\n",
            "arcname: benign/ISIC_0000017.jpg\n",
            "benign_malignant = benign\n",
            "benign\n",
            "arcname: benign/ISIC_0000007.jpg\n",
            "benign_malignant = malignant\n",
            "malignant\n",
            "arcname: malignant/ISIC_0000022.jpg\n",
            "benign_malignant = malignant\n",
            "malignant\n",
            "arcname: malignant/ISIC_0000013.jpg\n",
            "benign_malignant = benign\n",
            "benign\n",
            "arcname: benign/ISIC_0000003.jpg\n",
            "benign_malignant = benign\n",
            "benign\n",
            "arcname: benign/ISIC_0000018.jpg\n",
            "benign_malignant = benign\n",
            "benign\n",
            "arcname: benign/ISIC_0000008.jpg\n",
            "benign_malignant = benign\n",
            "benign\n",
            "arcname: benign/ISIC_0000023.jpg\n",
            "benign_malignant = benign\n",
            "benign\n",
            "arcname: benign/ISIC_0000014.jpg\n",
            "benign_malignant = malignant\n",
            "malignant\n",
            "arcname: malignant/ISIC_0000004.jpg\n",
            "thread 0 done.\n",
            "benign_malignant = benign\n",
            "benign\n",
            "arcname: benign/ISIC_0000009.jpg\n",
            "benign_malignant = benign\n",
            "benign\n",
            "arcname: benign/ISIC_0000019.jpg\n",
            "thread 1 done.\n",
            "thread 2 done.\n",
            "thread 3 done.\n",
            "benign_malignant = benign\n",
            "benign\n",
            "arcname: benign/ISIC_0000024.jpg\n",
            "thread 4 done.\n",
            "All threads returned.\n"
          ],
          "name": "stdout"
        }
      ]
    },
    {
      "cell_type": "code",
      "metadata": {
        "id": "5VTkPiJ965DZ",
        "colab_type": "code",
        "colab": {}
      },
      "source": [
        ""
      ],
      "execution_count": 0,
      "outputs": []
    }
  ]
}